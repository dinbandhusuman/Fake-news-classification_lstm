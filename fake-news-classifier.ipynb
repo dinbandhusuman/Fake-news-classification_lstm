{
 "cells": [
  {
   "cell_type": "code",
   "execution_count": 1,
   "id": "03cd6282",
   "metadata": {
    "_cell_guid": "b1076dfc-b9ad-4769-8c92-a6c4dae69d19",
    "_uuid": "8f2839f25d086af736a60e9eeb907d3b93b6e0e5",
    "execution": {
     "iopub.execute_input": "2023-03-30T12:19:09.098003Z",
     "iopub.status.busy": "2023-03-30T12:19:09.097550Z",
     "iopub.status.idle": "2023-03-30T12:19:09.120810Z",
     "shell.execute_reply": "2023-03-30T12:19:09.119366Z"
    },
    "papermill": {
     "duration": 0.036409,
     "end_time": "2023-03-30T12:19:09.123593",
     "exception": false,
     "start_time": "2023-03-30T12:19:09.087184",
     "status": "completed"
    },
    "tags": []
   },
   "outputs": [
    {
     "name": "stdout",
     "output_type": "stream",
     "text": [
      "/kaggle/input/fake-news/test (3).csv\n",
      "/kaggle/input/fake-news/train.csv\n"
     ]
    }
   ],
   "source": [
    "# This Python 3 environment comes with many helpful analytics libraries installed\n",
    "# It is defined by the kaggle/python Docker image: https://github.com/kaggle/docker-python\n",
    "# For example, here's several helpful packages to load\n",
    "\n",
    "import numpy as np # linear algebra\n",
    "import pandas as pd # data processing, CSV file I/O (e.g. pd.read_csv)\n",
    "\n",
    "# Input data files are available in the read-only \"../input/\" directory\n",
    "# For example, running this (by clicking run or pressing Shift+Enter) will list all files under the input directory\n",
    "\n",
    "import os\n",
    "for dirname, _, filenames in os.walk('/kaggle/input'):\n",
    "    for filename in filenames:\n",
    "        print(os.path.join(dirname, filename))\n",
    "\n",
    "# You can write up to 20GB to the current directory (/kaggle/working/) that gets preserved as output when you create a version using \"Save & Run All\" \n",
    "# You can also write temporary files to /kaggle/temp/, but they won't be saved outside of the current session"
   ]
  },
  {
   "cell_type": "code",
   "execution_count": 2,
   "id": "6d5c0c15",
   "metadata": {
    "execution": {
     "iopub.execute_input": "2023-03-30T12:19:09.143229Z",
     "iopub.status.busy": "2023-03-30T12:19:09.142738Z",
     "iopub.status.idle": "2023-03-30T12:19:09.148787Z",
     "shell.execute_reply": "2023-03-30T12:19:09.147298Z"
    },
    "papermill": {
     "duration": 0.01912,
     "end_time": "2023-03-30T12:19:09.151765",
     "exception": false,
     "start_time": "2023-03-30T12:19:09.132645",
     "status": "completed"
    },
    "tags": []
   },
   "outputs": [],
   "source": [
    "import pandas as pd\n",
    "import numpy as np\n"
   ]
  },
  {
   "cell_type": "code",
   "execution_count": 3,
   "id": "331f7aa2",
   "metadata": {
    "execution": {
     "iopub.execute_input": "2023-03-30T12:19:09.168524Z",
     "iopub.status.busy": "2023-03-30T12:19:09.168047Z",
     "iopub.status.idle": "2023-03-30T12:19:12.067555Z",
     "shell.execute_reply": "2023-03-30T12:19:12.066490Z"
    },
    "papermill": {
     "duration": 2.911315,
     "end_time": "2023-03-30T12:19:12.070604",
     "exception": false,
     "start_time": "2023-03-30T12:19:09.159289",
     "status": "completed"
    },
    "tags": []
   },
   "outputs": [],
   "source": [
    "data= pd.read_csv('/kaggle/input/fake-news/train.csv')"
   ]
  },
  {
   "cell_type": "code",
   "execution_count": 4,
   "id": "e1154d2a",
   "metadata": {
    "execution": {
     "iopub.execute_input": "2023-03-30T12:19:12.087477Z",
     "iopub.status.busy": "2023-03-30T12:19:12.086982Z",
     "iopub.status.idle": "2023-03-30T12:19:12.121641Z",
     "shell.execute_reply": "2023-03-30T12:19:12.120379Z"
    },
    "papermill": {
     "duration": 0.046275,
     "end_time": "2023-03-30T12:19:12.124325",
     "exception": false,
     "start_time": "2023-03-30T12:19:12.078050",
     "status": "completed"
    },
    "tags": []
   },
   "outputs": [
    {
     "data": {
      "text/html": [
       "<div>\n",
       "<style scoped>\n",
       "    .dataframe tbody tr th:only-of-type {\n",
       "        vertical-align: middle;\n",
       "    }\n",
       "\n",
       "    .dataframe tbody tr th {\n",
       "        vertical-align: top;\n",
       "    }\n",
       "\n",
       "    .dataframe thead th {\n",
       "        text-align: right;\n",
       "    }\n",
       "</style>\n",
       "<table border=\"1\" class=\"dataframe\">\n",
       "  <thead>\n",
       "    <tr style=\"text-align: right;\">\n",
       "      <th></th>\n",
       "      <th>id</th>\n",
       "      <th>title</th>\n",
       "      <th>author</th>\n",
       "      <th>text</th>\n",
       "      <th>label</th>\n",
       "    </tr>\n",
       "  </thead>\n",
       "  <tbody>\n",
       "    <tr>\n",
       "      <th>0</th>\n",
       "      <td>0</td>\n",
       "      <td>House Dem Aide: We Didn’t Even See Comey’s Let...</td>\n",
       "      <td>Darrell Lucus</td>\n",
       "      <td>House Dem Aide: We Didn’t Even See Comey’s Let...</td>\n",
       "      <td>1</td>\n",
       "    </tr>\n",
       "    <tr>\n",
       "      <th>1</th>\n",
       "      <td>1</td>\n",
       "      <td>FLYNN: Hillary Clinton, Big Woman on Campus - ...</td>\n",
       "      <td>Daniel J. Flynn</td>\n",
       "      <td>Ever get the feeling your life circles the rou...</td>\n",
       "      <td>0</td>\n",
       "    </tr>\n",
       "    <tr>\n",
       "      <th>2</th>\n",
       "      <td>2</td>\n",
       "      <td>Why the Truth Might Get You Fired</td>\n",
       "      <td>Consortiumnews.com</td>\n",
       "      <td>Why the Truth Might Get You Fired October 29, ...</td>\n",
       "      <td>1</td>\n",
       "    </tr>\n",
       "    <tr>\n",
       "      <th>3</th>\n",
       "      <td>3</td>\n",
       "      <td>15 Civilians Killed In Single US Airstrike Hav...</td>\n",
       "      <td>Jessica Purkiss</td>\n",
       "      <td>Videos 15 Civilians Killed In Single US Airstr...</td>\n",
       "      <td>1</td>\n",
       "    </tr>\n",
       "    <tr>\n",
       "      <th>4</th>\n",
       "      <td>4</td>\n",
       "      <td>Iranian woman jailed for fictional unpublished...</td>\n",
       "      <td>Howard Portnoy</td>\n",
       "      <td>Print \\nAn Iranian woman has been sentenced to...</td>\n",
       "      <td>1</td>\n",
       "    </tr>\n",
       "  </tbody>\n",
       "</table>\n",
       "</div>"
      ],
      "text/plain": [
       "   id                                              title              author  \\\n",
       "0   0  House Dem Aide: We Didn’t Even See Comey’s Let...       Darrell Lucus   \n",
       "1   1  FLYNN: Hillary Clinton, Big Woman on Campus - ...     Daniel J. Flynn   \n",
       "2   2                  Why the Truth Might Get You Fired  Consortiumnews.com   \n",
       "3   3  15 Civilians Killed In Single US Airstrike Hav...     Jessica Purkiss   \n",
       "4   4  Iranian woman jailed for fictional unpublished...      Howard Portnoy   \n",
       "\n",
       "                                                text  label  \n",
       "0  House Dem Aide: We Didn’t Even See Comey’s Let...      1  \n",
       "1  Ever get the feeling your life circles the rou...      0  \n",
       "2  Why the Truth Might Get You Fired October 29, ...      1  \n",
       "3  Videos 15 Civilians Killed In Single US Airstr...      1  \n",
       "4  Print \\nAn Iranian woman has been sentenced to...      1  "
      ]
     },
     "execution_count": 4,
     "metadata": {},
     "output_type": "execute_result"
    }
   ],
   "source": [
    "data.head()"
   ]
  },
  {
   "cell_type": "code",
   "execution_count": 5,
   "id": "cf99e0c8",
   "metadata": {
    "execution": {
     "iopub.execute_input": "2023-03-30T12:19:12.142431Z",
     "iopub.status.busy": "2023-03-30T12:19:12.141439Z",
     "iopub.status.idle": "2023-03-30T12:19:12.163573Z",
     "shell.execute_reply": "2023-03-30T12:19:12.162475Z"
    },
    "papermill": {
     "duration": 0.034062,
     "end_time": "2023-03-30T12:19:12.166317",
     "exception": false,
     "start_time": "2023-03-30T12:19:12.132255",
     "status": "completed"
    },
    "tags": []
   },
   "outputs": [],
   "source": [
    "data.dropna(inplace=True)"
   ]
  },
  {
   "cell_type": "code",
   "execution_count": 6,
   "id": "d21d5bc6",
   "metadata": {
    "execution": {
     "iopub.execute_input": "2023-03-30T12:19:12.183345Z",
     "iopub.status.busy": "2023-03-30T12:19:12.182916Z",
     "iopub.status.idle": "2023-03-30T12:19:12.199769Z",
     "shell.execute_reply": "2023-03-30T12:19:12.198645Z"
    },
    "papermill": {
     "duration": 0.028559,
     "end_time": "2023-03-30T12:19:12.202477",
     "exception": false,
     "start_time": "2023-03-30T12:19:12.173918",
     "status": "completed"
    },
    "tags": []
   },
   "outputs": [
    {
     "data": {
      "text/plain": [
       "id        0\n",
       "title     0\n",
       "author    0\n",
       "text      0\n",
       "label     0\n",
       "dtype: int64"
      ]
     },
     "execution_count": 6,
     "metadata": {},
     "output_type": "execute_result"
    }
   ],
   "source": [
    "data.isnull().sum()"
   ]
  },
  {
   "cell_type": "code",
   "execution_count": 7,
   "id": "49470047",
   "metadata": {
    "execution": {
     "iopub.execute_input": "2023-03-30T12:19:12.220560Z",
     "iopub.status.busy": "2023-03-30T12:19:12.219491Z",
     "iopub.status.idle": "2023-03-30T12:19:12.225485Z",
     "shell.execute_reply": "2023-03-30T12:19:12.224635Z"
    },
    "papermill": {
     "duration": 0.017597,
     "end_time": "2023-03-30T12:19:12.227876",
     "exception": false,
     "start_time": "2023-03-30T12:19:12.210279",
     "status": "completed"
    },
    "tags": []
   },
   "outputs": [],
   "source": [
    "data.reset_index(inplace=True)"
   ]
  },
  {
   "cell_type": "code",
   "execution_count": 8,
   "id": "2919b9c0",
   "metadata": {
    "execution": {
     "iopub.execute_input": "2023-03-30T12:19:12.245759Z",
     "iopub.status.busy": "2023-03-30T12:19:12.244977Z",
     "iopub.status.idle": "2023-03-30T12:19:12.253625Z",
     "shell.execute_reply": "2023-03-30T12:19:12.252574Z"
    },
    "papermill": {
     "duration": 0.020774,
     "end_time": "2023-03-30T12:19:12.256480",
     "exception": false,
     "start_time": "2023-03-30T12:19:12.235706",
     "status": "completed"
    },
    "tags": []
   },
   "outputs": [],
   "source": [
    "x = data['title']\n",
    "y = data['label']"
   ]
  },
  {
   "cell_type": "code",
   "execution_count": 9,
   "id": "fe19df12",
   "metadata": {
    "execution": {
     "iopub.execute_input": "2023-03-30T12:19:12.274057Z",
     "iopub.status.busy": "2023-03-30T12:19:12.273636Z",
     "iopub.status.idle": "2023-03-30T12:19:12.281640Z",
     "shell.execute_reply": "2023-03-30T12:19:12.280141Z"
    },
    "papermill": {
     "duration": 0.020379,
     "end_time": "2023-03-30T12:19:12.284966",
     "exception": false,
     "start_time": "2023-03-30T12:19:12.264587",
     "status": "completed"
    },
    "tags": []
   },
   "outputs": [
    {
     "name": "stdout",
     "output_type": "stream",
     "text": [
      "0    House Dem Aide: We Didn’t Even See Comey’s Let...\n",
      "1    FLYNN: Hillary Clinton, Big Woman on Campus - ...\n",
      "2                    Why the Truth Might Get You Fired\n",
      "3    15 Civilians Killed In Single US Airstrike Hav...\n",
      "4    Iranian woman jailed for fictional unpublished...\n",
      "Name: title, dtype: object\n",
      "0    1\n",
      "1    0\n",
      "2    1\n",
      "3    1\n",
      "4    1\n",
      "Name: label, dtype: int64\n"
     ]
    }
   ],
   "source": [
    "print(x.head())\n",
    "print(y.head())"
   ]
  },
  {
   "cell_type": "code",
   "execution_count": 10,
   "id": "4c524533",
   "metadata": {
    "execution": {
     "iopub.execute_input": "2023-03-30T12:19:12.303487Z",
     "iopub.status.busy": "2023-03-30T12:19:12.303052Z",
     "iopub.status.idle": "2023-03-30T12:19:22.877879Z",
     "shell.execute_reply": "2023-03-30T12:19:22.876558Z"
    },
    "papermill": {
     "duration": 10.587056,
     "end_time": "2023-03-30T12:19:22.880924",
     "exception": false,
     "start_time": "2023-03-30T12:19:12.293868",
     "status": "completed"
    },
    "tags": []
   },
   "outputs": [],
   "source": [
    "import re\n",
    "import nltk\n",
    "from tensorflow.keras.preprocessing.text import one_hot\n",
    "from tensorflow.keras.preprocessing.sequence import pad_sequences\n",
    "from tensorflow.keras.layers import Embedding,Flatten,Dense,LSTM\n",
    "from tensorflow.keras.models import Sequential"
   ]
  },
  {
   "cell_type": "code",
   "execution_count": 11,
   "id": "40f04d47",
   "metadata": {
    "execution": {
     "iopub.execute_input": "2023-03-30T12:19:22.900900Z",
     "iopub.status.busy": "2023-03-30T12:19:22.899142Z",
     "iopub.status.idle": "2023-03-30T12:19:22.913127Z",
     "shell.execute_reply": "2023-03-30T12:19:22.911601Z"
    },
    "papermill": {
     "duration": 0.026729,
     "end_time": "2023-03-30T12:19:22.916571",
     "exception": false,
     "start_time": "2023-03-30T12:19:22.889842",
     "status": "completed"
    },
    "tags": []
   },
   "outputs": [],
   "source": [
    "stopword = nltk.corpus.stopwords.words('english')\n",
    "ps = nltk.PorterStemmer()"
   ]
  },
  {
   "cell_type": "markdown",
   "id": "2ccc53fb",
   "metadata": {
    "papermill": {
     "duration": 0.00734,
     "end_time": "2023-03-30T12:19:22.931789",
     "exception": false,
     "start_time": "2023-03-30T12:19:22.924449",
     "status": "completed"
    },
    "tags": []
   },
   "source": [
    "Preprocessing of text"
   ]
  },
  {
   "cell_type": "code",
   "execution_count": 12,
   "id": "e9653168",
   "metadata": {
    "execution": {
     "iopub.execute_input": "2023-03-30T12:19:22.949643Z",
     "iopub.status.busy": "2023-03-30T12:19:22.949199Z",
     "iopub.status.idle": "2023-03-30T12:19:28.221824Z",
     "shell.execute_reply": "2023-03-30T12:19:28.220353Z"
    },
    "papermill": {
     "duration": 5.285115,
     "end_time": "2023-03-30T12:19:28.225073",
     "exception": false,
     "start_time": "2023-03-30T12:19:22.939958",
     "status": "completed"
    },
    "tags": []
   },
   "outputs": [],
   "source": [
    "corpus =[]\n",
    "for i in range(0,len(x)):\n",
    "    text = re.sub('[^a-zA-Z]',' ',x[i])\n",
    "    text = text.lower()\n",
    "    text = text.split()\n",
    "    text  = [ps.stem(word) for word in text if word not in stopword]\n",
    "    text = ' '.join(text)\n",
    "    corpus.append(text)"
   ]
  },
  {
   "cell_type": "code",
   "execution_count": 13,
   "id": "7276087a",
   "metadata": {
    "execution": {
     "iopub.execute_input": "2023-03-30T12:19:28.243455Z",
     "iopub.status.busy": "2023-03-30T12:19:28.242961Z",
     "iopub.status.idle": "2023-03-30T12:19:28.250218Z",
     "shell.execute_reply": "2023-03-30T12:19:28.249266Z"
    },
    "papermill": {
     "duration": 0.019699,
     "end_time": "2023-03-30T12:19:28.252701",
     "exception": false,
     "start_time": "2023-03-30T12:19:28.233002",
     "status": "completed"
    },
    "tags": []
   },
   "outputs": [
    {
     "data": {
      "text/plain": [
       "['hous dem aid even see comey letter jason chaffetz tweet',\n",
       " 'flynn hillari clinton big woman campu breitbart',\n",
       " 'truth might get fire',\n",
       " 'civilian kill singl us airstrik identifi',\n",
       " 'iranian woman jail fiction unpublish stori woman stone death adulteri',\n",
       " 'jacki mason hollywood would love trump bomb north korea lack tran bathroom exclus video breitbart',\n",
       " 'beno hamon win french socialist parti presidenti nomin new york time',\n",
       " 'back channel plan ukrain russia courtesi trump associ new york time',\n",
       " 'obama organ action partner soro link indivis disrupt trump agenda',\n",
       " 'bbc comedi sketch real housew isi caus outrag']"
      ]
     },
     "execution_count": 13,
     "metadata": {},
     "output_type": "execute_result"
    }
   ],
   "source": [
    "corpus[:10]"
   ]
  },
  {
   "cell_type": "code",
   "execution_count": 14,
   "id": "886c859f",
   "metadata": {
    "execution": {
     "iopub.execute_input": "2023-03-30T12:19:28.271545Z",
     "iopub.status.busy": "2023-03-30T12:19:28.270982Z",
     "iopub.status.idle": "2023-03-30T12:19:28.765594Z",
     "shell.execute_reply": "2023-03-30T12:19:28.764306Z"
    },
    "papermill": {
     "duration": 0.507593,
     "end_time": "2023-03-30T12:19:28.768257",
     "exception": false,
     "start_time": "2023-03-30T12:19:28.260664",
     "status": "completed"
    },
    "tags": []
   },
   "outputs": [
    {
     "data": {
      "text/plain": [
       "[[4753, 2927, 4198, 3294, 4858, 4564, 4996, 717, 758, 1797],\n",
       " [4117, 480, 720, 1087, 783, 2507, 394],\n",
       " [1719, 2917, 4763, 3301],\n",
       " [2409, 143, 2132, 4774, 4062, 3899],\n",
       " [4621, 783, 4391, 639, 2068, 1273, 783, 623, 2776, 3730],\n",
       " [689,\n",
       "  850,\n",
       "  2622,\n",
       "  139,\n",
       "  2397,\n",
       "  605,\n",
       "  3033,\n",
       "  852,\n",
       "  2509,\n",
       "  3043,\n",
       "  261,\n",
       "  1182,\n",
       "  4394,\n",
       "  850,\n",
       "  394],\n",
       " [2476, 4264, 33, 1110, 1843, 2766, 1506, 4114, 2328, 4639, 2890],\n",
       " [1649, 982, 2543, 857, 184, 673, 605, 3983, 2328, 4639, 2890],\n",
       " [1857, 3348, 2998, 4866, 3819, 4554, 3182, 166, 605, 4611],\n",
       " [1040, 4959, 2278, 947, 1349, 4632, 3023, 3020]]"
      ]
     },
     "execution_count": 14,
     "metadata": {},
     "output_type": "execute_result"
    }
   ],
   "source": [
    "#one_hot_representation---\n",
    "vocab_length = 5000\n",
    "one_hot_rep = [one_hot(x,vocab_length) for x in corpus]\n",
    "one_hot_rep[:10]"
   ]
  },
  {
   "cell_type": "code",
   "execution_count": 15,
   "id": "686f62f4",
   "metadata": {
    "execution": {
     "iopub.execute_input": "2023-03-30T12:19:28.786717Z",
     "iopub.status.busy": "2023-03-30T12:19:28.786284Z",
     "iopub.status.idle": "2023-03-30T12:19:28.851124Z",
     "shell.execute_reply": "2023-03-30T12:19:28.849672Z"
    },
    "papermill": {
     "duration": 0.077285,
     "end_time": "2023-03-30T12:19:28.853833",
     "exception": false,
     "start_time": "2023-03-30T12:19:28.776548",
     "status": "completed"
    },
    "tags": []
   },
   "outputs": [
    {
     "data": {
      "text/plain": [
       "array([[   0,    0,    0,    0,    0,    0,    0,    0,    0,    0, 4753,\n",
       "        2927, 4198, 3294, 4858, 4564, 4996,  717,  758, 1797],\n",
       "       [   0,    0,    0,    0,    0,    0,    0,    0,    0,    0,    0,\n",
       "           0,    0, 4117,  480,  720, 1087,  783, 2507,  394],\n",
       "       [   0,    0,    0,    0,    0,    0,    0,    0,    0,    0,    0,\n",
       "           0,    0,    0,    0,    0, 1719, 2917, 4763, 3301],\n",
       "       [   0,    0,    0,    0,    0,    0,    0,    0,    0,    0,    0,\n",
       "           0,    0,    0, 2409,  143, 2132, 4774, 4062, 3899],\n",
       "       [   0,    0,    0,    0,    0,    0,    0,    0,    0,    0, 4621,\n",
       "         783, 4391,  639, 2068, 1273,  783,  623, 2776, 3730],\n",
       "       [   0,    0,    0,    0,    0,  689,  850, 2622,  139, 2397,  605,\n",
       "        3033,  852, 2509, 3043,  261, 1182, 4394,  850,  394],\n",
       "       [   0,    0,    0,    0,    0,    0,    0,    0,    0, 2476, 4264,\n",
       "          33, 1110, 1843, 2766, 1506, 4114, 2328, 4639, 2890],\n",
       "       [   0,    0,    0,    0,    0,    0,    0,    0,    0, 1649,  982,\n",
       "        2543,  857,  184,  673,  605, 3983, 2328, 4639, 2890],\n",
       "       [   0,    0,    0,    0,    0,    0,    0,    0,    0,    0, 1857,\n",
       "        3348, 2998, 4866, 3819, 4554, 3182,  166,  605, 4611],\n",
       "       [   0,    0,    0,    0,    0,    0,    0,    0,    0,    0,    0,\n",
       "           0, 1040, 4959, 2278,  947, 1349, 4632, 3023, 3020]],\n",
       "      dtype=int32)"
      ]
     },
     "execution_count": 15,
     "metadata": {},
     "output_type": "execute_result"
    }
   ],
   "source": [
    "#padding----\n",
    "sent_length = 20\n",
    "sent_pad = pad_sequences(one_hot_rep,padding='pre',maxlen=sent_length)\n",
    "sent_pad[:10]"
   ]
  },
  {
   "cell_type": "code",
   "execution_count": 16,
   "id": "78ec2b1e",
   "metadata": {
    "execution": {
     "iopub.execute_input": "2023-03-30T12:19:28.872863Z",
     "iopub.status.busy": "2023-03-30T12:19:28.872442Z",
     "iopub.status.idle": "2023-03-30T12:19:29.467516Z",
     "shell.execute_reply": "2023-03-30T12:19:29.466123Z"
    },
    "papermill": {
     "duration": 0.611857,
     "end_time": "2023-03-30T12:19:29.473926",
     "exception": false,
     "start_time": "2023-03-30T12:19:28.862069",
     "status": "completed"
    },
    "tags": []
   },
   "outputs": [
    {
     "name": "stdout",
     "output_type": "stream",
     "text": [
      "Model: \"sequential\"\n",
      "_________________________________________________________________\n",
      " Layer (type)                Output Shape              Param #   \n",
      "=================================================================\n",
      " embedding (Embedding)       (None, 20, 40)            200000    \n",
      "                                                                 \n",
      " lstm (LSTM)                 (None, 100)               56400     \n",
      "                                                                 \n",
      " dense (Dense)               (None, 1)                 101       \n",
      "                                                                 \n",
      "=================================================================\n",
      "Total params: 256,501\n",
      "Trainable params: 256,501\n",
      "Non-trainable params: 0\n",
      "_________________________________________________________________\n",
      "None\n"
     ]
    }
   ],
   "source": [
    "#embedding\n",
    "model = Sequential()\n",
    "model.add(Embedding(vocab_length,40,input_length=sent_length))\n",
    "model.add(LSTM(100))\n",
    "model.add(Dense(1,activation='sigmoid'))\n",
    "model.compile('adam','binary_crossentropy',metrics=['accuracy'])\n",
    "print(model.summary())"
   ]
  },
  {
   "cell_type": "code",
   "execution_count": 17,
   "id": "3b7836bc",
   "metadata": {
    "execution": {
     "iopub.execute_input": "2023-03-30T12:19:29.494371Z",
     "iopub.status.busy": "2023-03-30T12:19:29.493904Z",
     "iopub.status.idle": "2023-03-30T12:19:29.501639Z",
     "shell.execute_reply": "2023-03-30T12:19:29.500442Z"
    },
    "papermill": {
     "duration": 0.020898,
     "end_time": "2023-03-30T12:19:29.503932",
     "exception": false,
     "start_time": "2023-03-30T12:19:29.483034",
     "status": "completed"
    },
    "tags": []
   },
   "outputs": [
    {
     "data": {
      "text/plain": [
       "(18285, (18285,))"
      ]
     },
     "execution_count": 17,
     "metadata": {},
     "output_type": "execute_result"
    }
   ],
   "source": [
    "len(sent_pad),y.shape"
   ]
  },
  {
   "cell_type": "code",
   "execution_count": 18,
   "id": "77cfab14",
   "metadata": {
    "execution": {
     "iopub.execute_input": "2023-03-30T12:19:29.524699Z",
     "iopub.status.busy": "2023-03-30T12:19:29.524224Z",
     "iopub.status.idle": "2023-03-30T12:19:29.530871Z",
     "shell.execute_reply": "2023-03-30T12:19:29.529851Z"
    },
    "papermill": {
     "duration": 0.020013,
     "end_time": "2023-03-30T12:19:29.533145",
     "exception": false,
     "start_time": "2023-03-30T12:19:29.513132",
     "status": "completed"
    },
    "tags": []
   },
   "outputs": [],
   "source": [
    "x_final = np.array(sent_pad)\n",
    "y_final = np.array(y)"
   ]
  },
  {
   "cell_type": "code",
   "execution_count": 19,
   "id": "d842344f",
   "metadata": {
    "execution": {
     "iopub.execute_input": "2023-03-30T12:19:29.554442Z",
     "iopub.status.busy": "2023-03-30T12:19:29.553960Z",
     "iopub.status.idle": "2023-03-30T12:19:29.561287Z",
     "shell.execute_reply": "2023-03-30T12:19:29.560327Z"
    },
    "papermill": {
     "duration": 0.020826,
     "end_time": "2023-03-30T12:19:29.563758",
     "exception": false,
     "start_time": "2023-03-30T12:19:29.542932",
     "status": "completed"
    },
    "tags": []
   },
   "outputs": [
    {
     "data": {
      "text/plain": [
       "((18285, 20), (18285,))"
      ]
     },
     "execution_count": 19,
     "metadata": {},
     "output_type": "execute_result"
    }
   ],
   "source": [
    "x_final.shape,y_final.shape"
   ]
  },
  {
   "cell_type": "code",
   "execution_count": 20,
   "id": "fa3d16ce",
   "metadata": {
    "execution": {
     "iopub.execute_input": "2023-03-30T12:19:29.585070Z",
     "iopub.status.busy": "2023-03-30T12:19:29.584662Z",
     "iopub.status.idle": "2023-03-30T12:28:52.875274Z",
     "shell.execute_reply": "2023-03-30T12:28:52.874376Z"
    },
    "papermill": {
     "duration": 563.315202,
     "end_time": "2023-03-30T12:28:52.888890",
     "exception": false,
     "start_time": "2023-03-30T12:19:29.573688",
     "status": "completed"
    },
    "tags": []
   },
   "outputs": [
    {
     "name": "stdout",
     "output_type": "stream",
     "text": [
      "Accuracy: 100.000000\n",
      "loss 4.0850598459485354e-09\n"
     ]
    }
   ],
   "source": [
    "#fit the model--\n",
    "model.fit(x_final,y_final,epochs=50,verbose=0)\n",
    "#evulate the model--\n",
    "loss,accuracy = model.evaluate(x_final,y_final,verbose=0)\n",
    "print('Accuracy: %f' % (accuracy*100))\n",
    "print(\"loss\",loss)"
   ]
  },
  {
   "cell_type": "markdown",
   "id": "4b82182d",
   "metadata": {
    "execution": {
     "iopub.execute_input": "2023-03-30T06:52:34.111189Z",
     "iopub.status.busy": "2023-03-30T06:52:34.110722Z",
     "iopub.status.idle": "2023-03-30T06:52:34.500375Z",
     "shell.execute_reply": "2023-03-30T06:52:34.498523Z",
     "shell.execute_reply.started": "2023-03-30T06:52:34.111130Z"
    },
    "papermill": {
     "duration": 0.00956,
     "end_time": "2023-03-30T12:28:52.909538",
     "exception": false,
     "start_time": "2023-03-30T12:28:52.899978",
     "status": "completed"
    },
    "tags": []
   },
   "source": [
    "Dropout"
   ]
  },
  {
   "cell_type": "code",
   "execution_count": 21,
   "id": "2e2f8900",
   "metadata": {
    "execution": {
     "iopub.execute_input": "2023-03-30T12:28:52.931075Z",
     "iopub.status.busy": "2023-03-30T12:28:52.929974Z",
     "iopub.status.idle": "2023-03-30T12:28:53.276202Z",
     "shell.execute_reply": "2023-03-30T12:28:53.274830Z"
    },
    "papermill": {
     "duration": 0.365481,
     "end_time": "2023-03-30T12:28:53.284368",
     "exception": false,
     "start_time": "2023-03-30T12:28:52.918887",
     "status": "completed"
    },
    "tags": []
   },
   "outputs": [
    {
     "name": "stdout",
     "output_type": "stream",
     "text": [
      "Model: \"sequential_1\"\n",
      "_________________________________________________________________\n",
      " Layer (type)                Output Shape              Param #   \n",
      "=================================================================\n",
      " embedding_1 (Embedding)     (None, 20, 40)            200000    \n",
      "                                                                 \n",
      " lstm_1 (LSTM)               (None, 100)               56400     \n",
      "                                                                 \n",
      " dense_1 (Dense)             (None, 1)                 101       \n",
      "                                                                 \n",
      "=================================================================\n",
      "Total params: 256,501\n",
      "Trainable params: 256,501\n",
      "Non-trainable params: 0\n",
      "_________________________________________________________________\n",
      "None\n"
     ]
    }
   ],
   "source": [
    "#embedding\n",
    "from tensorflow.keras.layers import Dropout\n",
    "model1 = Sequential()\n",
    "model1.add(Embedding(vocab_length,40,input_length=sent_length))\n",
    "#model1.add(Dropout())\n",
    "model1.add(LSTM(100))\n",
    "#model1.add(Dropout())\n",
    "model1.add(Dense(1,activation='sigmoid'))\n",
    "model1.compile('adam','binary_crossentropy',metrics=['accuracy'])\n",
    "print(model1.summary())"
   ]
  },
  {
   "cell_type": "code",
   "execution_count": 22,
   "id": "05b3e434",
   "metadata": {
    "execution": {
     "iopub.execute_input": "2023-03-30T12:28:53.307851Z",
     "iopub.status.busy": "2023-03-30T12:28:53.307328Z",
     "iopub.status.idle": "2023-03-30T12:28:53.318957Z",
     "shell.execute_reply": "2023-03-30T12:28:53.317857Z"
    },
    "papermill": {
     "duration": 0.026809,
     "end_time": "2023-03-30T12:28:53.321736",
     "exception": false,
     "start_time": "2023-03-30T12:28:53.294927",
     "status": "completed"
    },
    "tags": []
   },
   "outputs": [],
   "source": [
    "from sklearn.model_selection import train_test_split\n",
    "x_train,x_test,y_train,y_test = train_test_split(x_final,y_final,test_size=0.30,random_state=42)"
   ]
  },
  {
   "cell_type": "markdown",
   "id": "5e800498",
   "metadata": {
    "papermill": {
     "duration": 0.009912,
     "end_time": "2023-03-30T12:28:53.342047",
     "exception": false,
     "start_time": "2023-03-30T12:28:53.332135",
     "status": "completed"
    },
    "tags": []
   },
   "source": [
    "model_training---"
   ]
  },
  {
   "cell_type": "code",
   "execution_count": 23,
   "id": "1b07de6e",
   "metadata": {
    "execution": {
     "iopub.execute_input": "2023-03-30T12:28:53.364991Z",
     "iopub.status.busy": "2023-03-30T12:28:53.364552Z",
     "iopub.status.idle": "2023-03-30T12:30:02.570646Z",
     "shell.execute_reply": "2023-03-30T12:30:02.569489Z"
    },
    "papermill": {
     "duration": 69.221129,
     "end_time": "2023-03-30T12:30:02.573354",
     "exception": false,
     "start_time": "2023-03-30T12:28:53.352225",
     "status": "completed"
    },
    "tags": []
   },
   "outputs": [
    {
     "name": "stdout",
     "output_type": "stream",
     "text": [
      "Epoch 1/10\n",
      "200/200 [==============================] - 10s 35ms/step - loss: 0.3235 - accuracy: 0.8501 - val_loss: 0.2006 - val_accuracy: 0.9160\n",
      "Epoch 2/10\n",
      "200/200 [==============================] - 7s 33ms/step - loss: 0.1390 - accuracy: 0.9450 - val_loss: 0.1988 - val_accuracy: 0.9176\n",
      "Epoch 3/10\n",
      "200/200 [==============================] - 7s 34ms/step - loss: 0.0957 - accuracy: 0.9659 - val_loss: 0.2315 - val_accuracy: 0.9154\n",
      "Epoch 4/10\n",
      "200/200 [==============================] - 7s 33ms/step - loss: 0.0669 - accuracy: 0.9762 - val_loss: 0.2579 - val_accuracy: 0.9096\n",
      "Epoch 5/10\n",
      "200/200 [==============================] - 7s 33ms/step - loss: 0.0405 - accuracy: 0.9874 - val_loss: 0.3127 - val_accuracy: 0.9069\n",
      "Epoch 6/10\n",
      "200/200 [==============================] - 7s 33ms/step - loss: 0.0286 - accuracy: 0.9912 - val_loss: 0.3826 - val_accuracy: 0.9096\n",
      "Epoch 7/10\n",
      "200/200 [==============================] - 6s 32ms/step - loss: 0.0175 - accuracy: 0.9943 - val_loss: 0.4332 - val_accuracy: 0.9121\n",
      "Epoch 8/10\n",
      "200/200 [==============================] - 7s 34ms/step - loss: 0.0098 - accuracy: 0.9971 - val_loss: 0.4290 - val_accuracy: 0.9048\n",
      "Epoch 9/10\n",
      "200/200 [==============================] - 7s 33ms/step - loss: 0.0080 - accuracy: 0.9980 - val_loss: 0.5405 - val_accuracy: 0.9039\n",
      "Epoch 10/10\n",
      "200/200 [==============================] - 7s 33ms/step - loss: 0.0068 - accuracy: 0.9978 - val_loss: 0.5555 - val_accuracy: 0.9087\n"
     ]
    },
    {
     "data": {
      "text/plain": [
       "<keras.callbacks.History at 0x7f9922e2bd10>"
      ]
     },
     "execution_count": 23,
     "metadata": {},
     "output_type": "execute_result"
    }
   ],
   "source": [
    "model1.fit(x_train,y_train,validation_data=(x_test,y_test),epochs=10,batch_size=64)"
   ]
  },
  {
   "cell_type": "code",
   "execution_count": 24,
   "id": "29169dc5",
   "metadata": {
    "execution": {
     "iopub.execute_input": "2023-03-30T12:30:02.723583Z",
     "iopub.status.busy": "2023-03-30T12:30:02.723112Z",
     "iopub.status.idle": "2023-03-30T12:30:04.404774Z",
     "shell.execute_reply": "2023-03-30T12:30:04.403466Z"
    },
    "papermill": {
     "duration": 1.760921,
     "end_time": "2023-03-30T12:30:04.407980",
     "exception": false,
     "start_time": "2023-03-30T12:30:02.647059",
     "status": "completed"
    },
    "tags": []
   },
   "outputs": [
    {
     "name": "stdout",
     "output_type": "stream",
     "text": [
      "172/172 [==============================] - 2s 6ms/step\n"
     ]
    }
   ],
   "source": [
    "from sklearn import metrics\n",
    "y_pred = (model1.predict(x_test)>=0.5).astype(int)"
   ]
  },
  {
   "cell_type": "code",
   "execution_count": 25,
   "id": "661b0acc",
   "metadata": {
    "execution": {
     "iopub.execute_input": "2023-03-30T12:30:04.563581Z",
     "iopub.status.busy": "2023-03-30T12:30:04.563140Z",
     "iopub.status.idle": "2023-03-30T12:30:04.571366Z",
     "shell.execute_reply": "2023-03-30T12:30:04.570548Z"
    },
    "papermill": {
     "duration": 0.08857,
     "end_time": "2023-03-30T12:30:04.573548",
     "exception": false,
     "start_time": "2023-03-30T12:30:04.484978",
     "status": "completed"
    },
    "tags": []
   },
   "outputs": [
    {
     "data": {
      "text/plain": [
       "0.9086766314254466"
      ]
     },
     "execution_count": 25,
     "metadata": {},
     "output_type": "execute_result"
    }
   ],
   "source": [
    "metrics.accuracy_score(y_test,y_pred)"
   ]
  },
  {
   "cell_type": "code",
   "execution_count": 26,
   "id": "b9f87b50",
   "metadata": {
    "execution": {
     "iopub.execute_input": "2023-03-30T12:30:04.727402Z",
     "iopub.status.busy": "2023-03-30T12:30:04.726667Z",
     "iopub.status.idle": "2023-03-30T12:30:04.735800Z",
     "shell.execute_reply": "2023-03-30T12:30:04.734630Z"
    },
    "papermill": {
     "duration": 0.088853,
     "end_time": "2023-03-30T12:30:04.738075",
     "exception": false,
     "start_time": "2023-03-30T12:30:04.649222",
     "status": "completed"
    },
    "tags": []
   },
   "outputs": [
    {
     "data": {
      "text/plain": [
       "array([[2832,  275],\n",
       "       [ 226, 2153]])"
      ]
     },
     "execution_count": 26,
     "metadata": {},
     "output_type": "execute_result"
    }
   ],
   "source": [
    "metrics.confusion_matrix(y_test,y_pred)"
   ]
  }
 ],
 "metadata": {
  "kernelspec": {
   "display_name": "Python 3",
   "language": "python",
   "name": "python3"
  },
  "language_info": {
   "codemirror_mode": {
    "name": "ipython",
    "version": 3
   },
   "file_extension": ".py",
   "mimetype": "text/x-python",
   "name": "python",
   "nbconvert_exporter": "python",
   "pygments_lexer": "ipython3",
   "version": "3.7.12"
  },
  "papermill": {
   "default_parameters": {},
   "duration": 670.211291,
   "end_time": "2023-03-30T12:30:08.458048",
   "environment_variables": {},
   "exception": null,
   "input_path": "__notebook__.ipynb",
   "output_path": "__notebook__.ipynb",
   "parameters": {},
   "start_time": "2023-03-30T12:18:58.246757",
   "version": "2.4.0"
  }
 },
 "nbformat": 4,
 "nbformat_minor": 5
}
